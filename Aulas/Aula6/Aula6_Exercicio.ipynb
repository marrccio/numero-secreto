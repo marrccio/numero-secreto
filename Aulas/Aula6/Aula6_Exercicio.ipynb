{
  "cells": [
    {
      "cell_type": "markdown",
      "metadata": {
        "id": "view-in-github",
        "colab_type": "text"
      },
      "source": [
        "<a href=\"https://colab.research.google.com/github/marrccio/numero-secreto/blob/main/Aulas/Aula6/Aula6_Exercicio.ipynb\" target=\"_parent\"><img src=\"https://colab.research.google.com/assets/colab-badge.svg\" alt=\"Open In Colab\"/></a>"
      ]
    },
    {
      "cell_type": "markdown",
      "metadata": {
        "id": "FeLL9nXJ_rqn"
      },
      "source": [
        "<a href=\"https://colab.research.google.com/github/alexlopespereira/idp_mestrado/blob/main/Aulas/Aula6/Aula6_Exercicio.ipynb\" target=\"_parent\"><img src=\"https://colab.research.google.com/assets/colab-badge.svg\" alt=\"Open In Colab\"/></a>"
      ]
    },
    {
      "cell_type": "markdown",
      "metadata": {
        "id": "cIstVsSy_rqs"
      },
      "source": [
        "# Aula 6 - Exercícios - Pandas e Fontes de dados"
      ]
    },
    {
      "cell_type": "code",
      "execution_count": null,
      "metadata": {
        "id": "8Nysbo8a_rqt"
      },
      "outputs": [],
      "source": [
        "# Importe as bibliotecas pandas, numpy\n",
        "import pandas as pd\n",
        "import numpy as np\n",
        "from numpy import nan"
      ]
    },
    {
      "cell_type": "markdown",
      "metadata": {
        "id": "rFUKT-Ct_rqx"
      },
      "source": [
        "### 6.1 Carregue o arquivo do IDEB 2017 no formato de um DataFrame.  Crie uma função para calcular a média do IDEB de 2017 de todos os municípios de um determinado Estado.\n",
        "#### Remova os registros cujo valor na coluna REDE sejam Municipal, Estadual ou Federal. Deixe somente os registros cujos valores na coluna REDE sejam Pública.\n",
        "#### Dica 1: Antes de calcular, certifique-se de interpretar os valores '-' como NA durante o carregamento dos dados ou os substitua por np.nan (NA) com o metodo replace.\n",
        "#### Dica 2: Use a função loc para fazer o filtro de registros.\n",
        "#### Dica 3: Dentre várias maneiras possíveis, uma maneira bastante concisa é usar o operador & (and) para congregar dois critérios de filtro (seleção) de registros.\n"
      ]
    },
    {
      "cell_type": "code",
      "execution_count": null,
      "metadata": {
        "nbgrader": {
          "grade": false,
          "grade_id": "cell-c705ab9d11473b9f9",
          "locked": false,
          "schema_version": 3,
          "solution": true,
          "task": false
        },
        "id": "bTbvJfvA_rqy"
      },
      "outputs": [],
      "source": [
        "def media_ideb(df, sigla_estado):\n",
        "    \"\"\"retorne o valor da media do IDEB de 2017 contido na coluna col do Estado especificado por sigla_estado.\n",
        "    \"\"\"\n",
        "    ### BEGIN SOLUTION\n",
        "\n",
        "\n",
        "    ### END SOLUTION\n"
      ]
    },
    {
      "cell_type": "code",
      "execution_count": null,
      "metadata": {
        "id": "WSgS2uZ0_rqz"
      },
      "outputs": [],
      "source": [
        "## Faça seus testes aqui\n",
        "path_ideb='https://github.com/alexlopespereira/idp_mestrado/raw/main/data/originais/ideb/ideb_municipios2017.xlsx'\n",
        "\n"
      ]
    },
    {
      "cell_type": "code",
      "execution_count": null,
      "metadata": {
        "nbgrader": {
          "grade": true,
          "grade_id": "cell-9ffdsa88d58e9282a",
          "locked": true,
          "points": 1,
          "schema_version": 3,
          "solution": false,
          "task": false
        },
        "scrolled": false,
        "id": "WzRCdPFs_rq1"
      },
      "outputs": [],
      "source": [
        "# Validação\n",
        "##############################################\n",
        "########## ATENÇÃO PARA ESTA INSTRUÇÃO #######\n",
        "# Crie na célula anterior um dataframe df_ideb.\n",
        "# Use os argumentos skiprows, na_values e skipfooter para carregar a tabela corretamente.\n",
        "##############################################\n",
        "entradas = [[df_ideb, 'DF'], [df_ideb, 'SP'], [df_ideb, 'GO']]\n",
        "saidas = [3.4,4.0,4.2]\n",
        "validate(media_ideb, entradas, lambda x: round(x,1), saidas, \"6.1\", False)"
      ]
    },
    {
      "cell_type": "markdown",
      "metadata": {
        "id": "_EAKvoo1_rq2"
      },
      "source": [
        "### 6.2 Escreva uma função para gerar uma permutação (aleatória) de uma lista e colocar o resultado num dataframe com os elementos da lista agrupados em grupos de tamanho N (Ex.: N=4).\n",
        "#### A coluna de índices deve conter o nome dos grupos. Os nomes dos grupos devem seguir a seguinte regra: Grupo 1, Grupo 2, Grupo 3,..., Grupo K.\n",
        "#### Veja como ficaria o resultado para o exemplo a seguir com uma lista de 9 elementos e tamanho N=4.\n",
        "\n",
        "|         | 0                  |\n",
        "|:--------|:-------------------|\n",
        "| Grupo 0 | Julie Lewis        |\n",
        "| Grupo 0 | Mary Phinney       |\n",
        "| Grupo 0 | Gilbert Ravenell   |\n",
        "| Grupo 0 | Jillian Brennan    |\n",
        "| Grupo 1 | Michelle Humphreys |\n",
        "| Grupo 1 | Kimberly Ransome   |\n",
        "| Grupo 1 | Lisa Watson        |\n",
        "| Grupo 1 | Jennifer Daniels   |\n",
        "| Grupo 2 | Olga Crocker       |\n",
        "\n",
        "#### Dica 1: A função len calcula o tamanho de uma lista.\n",
        "#### Dica 2: Use a função math.ceil(N/n), onde N é o tamanho da lista e n é a quantidade de pessoas em cada grupo.\n"
      ]
    },
    {
      "cell_type": "code",
      "execution_count": null,
      "metadata": {
        "nbgrader": {
          "grade": false,
          "grade_id": "cell-553em5248eb14bc30",
          "locked": false,
          "schema_version": 3,
          "solution": true,
          "task": false
        },
        "id": "K70o9Y2-_rq3"
      },
      "outputs": [],
      "source": [
        "def create_groups(names_list, n):\n",
        "    \"\"\"Crie um dataframe com os nomes da lista names_list agrupados em grupos de tamanho n.\n",
        "    \"\"\"\n",
        "    ### BEGIN SOLUTION\n",
        "    from random import shuffle\n",
        "    import math\n",
        "    import pandas as pd\n",
        "\n",
        "    ### END SOLUTION"
      ]
    },
    {
      "cell_type": "code",
      "execution_count": null,
      "metadata": {
        "id": "3W-cpkl8_rq4"
      },
      "outputs": [],
      "source": [
        "## Faça seus testes aqui\n",
        "# Instale a biblioteca names, na primeira vez que rodar esta célula\n",
        "#!pip install names  ##### Execute esta linha na primeira vez que executar esta célula !!! ####\n",
        "import names\n",
        "N = 9\n",
        "group_length = 4\n",
        "test_data = [names.get_full_name() for n in range(N)]\n",
        "test_data\n"
      ]
    },
    {
      "cell_type": "code",
      "execution_count": null,
      "metadata": {
        "nbgrader": {
          "grade": true,
          "grade_id": "cell-0se2b6cefe06bdc60",
          "locked": true,
          "points": 1,
          "schema_version": 3,
          "solution": false,
          "task": false
        },
        "id": "D5QRHFfE_rq4"
      },
      "outputs": [],
      "source": [
        "# Validação\n",
        "import names\n",
        "N = 9\n",
        "group_length = 4\n",
        "test_data = [names.get_full_name() for n in range(N)]\n",
        "result = ['Grupo 0', 'Grupo 0', 'Grupo 0', 'Grupo 0', 'Grupo 1', 'Grupo 1', 'Grupo 1', 'Grupo 1', 'Grupo 2']\n",
        "\n",
        "entradas = [[test_data, group_length]]\n",
        "saidas = [result]\n",
        "validate(create_groups, entradas, lambda x: x.index.to_list(), saidas, \"6.2\", False)"
      ]
    },
    {
      "cell_type": "markdown",
      "metadata": {
        "nbgrader": {
          "grade": false,
          "grade_id": "cell-553e524r8eb14bc30",
          "locked": false,
          "schema_version": 3,
          "solution": false,
          "task": false
        },
        "id": "VQOSbSda_rq4"
      },
      "source": [
        "### 6.3 Escreva uma função para carregar corretamente o dataframe de população disponibilizado. A função deve receber como argumento o caminho para o dataset. Crie uma coluna chamada ```cod_ibge7``` a partir da concatenação  do conteúdo das colunas ```cod_uf``` e ```cod_munic``` (nesta ordem).\n",
        "\n",
        "#### Dica 1: Converta o codigo do município para string ao carregar o dataframe de população utilizando o mapeamento de tipos dtype={'cod_munic': str, 'cod_uf': str}. Assim o codigo do municipio não perde os zeros a esquerda.\n",
        "#### Dica 2: Concatene o codigo da UF com o código do município usando o operador."
      ]
    },
    {
      "cell_type": "code",
      "execution_count": null,
      "metadata": {
        "nbgrader": {
          "grade": false,
          "grade_id": "cell-cbfdac791270d86c",
          "locked": false,
          "schema_version": 3,
          "solution": true,
          "task": false
        },
        "id": "eMCw_h8x_rq5"
      },
      "outputs": [],
      "source": [
        "def load_pop(path_pop):\n",
        "    \"\"\"retorne um dataframe da população\n",
        "    \"\"\"\n",
        "    ### BEGIN SOLUTION\n",
        "\n",
        "\n",
        "    ### END SOLUTION"
      ]
    },
    {
      "cell_type": "code",
      "execution_count": null,
      "metadata": {
        "scrolled": true,
        "id": "8AGwo7Aw_rq6"
      },
      "outputs": [],
      "source": [
        "## Faça seus testes aqui\n",
        "path_pop = 'https://github.com/alexlopespereira/idp_mestrado/raw/main/data/originais/populacao/estimativa_dou_2017.xlsx'\n",
        "\n"
      ]
    },
    {
      "cell_type": "code",
      "execution_count": null,
      "metadata": {
        "id": "Y3AixLzA_rq7"
      },
      "outputs": [],
      "source": [
        "path_pop = 'https://github.com/alexlopespereira/idp_mestrado/raw/main/data/originais/populacao/estimativa_dou_2017.xlsx'\n",
        "entradas = [[path_pop]]\n",
        "saidas = [{'uf': 'RO', 'cod_uf': '11', 'cod_munic': '00015', 'municipio': \"Alta Floresta D'Oeste\",\n",
        " 'pop2017': 25437, 'cod_ibge7': '1100015'}]\n"
      ]
    },
    {
      "cell_type": "markdown",
      "metadata": {
        "id": "KChNsPct_rq8"
      },
      "source": [
        "### 6.4 Despivote o dataframe abaixo transformando as colunas 1991, 2000 e 2010 em conteúdos das linhas no dataframe resultante.\n",
        "#### Dataframe de entrada:\n",
        "|    | Município                      |     1991 |   2000 |   2010 |\n",
        "|---:|:-------------------------------|---------:|-------:|-------:|\n",
        "|  0 | 110001 Alta Floresta D'Oeste   |   0.5983 | 0.5868 | 0.5893 |\n",
        "|  1 | 110037 Alto Alegre dos Parecis | NaN     | 0.508  | 0.5491 |\n",
        "|  2 | 110040 Alto Paraíso            | NaN     | 0.6256 | 0.5417 |\n",
        "|  3 | 110034 Alvorada D'Oeste        |   0.569  | 0.6534 | 0.5355 |\n",
        "|  4 | 110002 Ariquemes               |   0.5827 | 0.5927 | 0.5496 |\n",
        "\n",
        "#### Resultado esperado:\n",
        "|    | Município                      |   data |     gini |\n",
        "|---:|:-------------------------------|-------:|---------:|\n",
        "|  0 | 110001 Alta Floresta D'Oeste   |   1991 |   0.5983 |\n",
        "|  1 | 110037 Alto Alegre dos Parecis |   1991 | NaN     |\n",
        "|  2 | 110040 Alto Paraíso            |   1991 | NaN     |\n",
        "|  3 | 110034 Alvorada D'Oeste        |   1991 |   0.569  |\n",
        "|  4 | 110002 Ariquemes               |   1991 |   0.5827 |\n",
        "|  5 | 110001 Alta Floresta D'Oeste   |   2000 |   0.5868 |\n",
        "|  6 | 110037 Alto Alegre dos Parecis |   2000 |   0.508  |\n",
        "|  7 | 110040 Alto Paraíso            |   2000 |   0.6256 |\n",
        "|  8 | 110034 Alvorada D'Oeste        |   2000 |   0.6534 |\n",
        "|  9 | 110002 Ariquemes               |   2000 |   0.5927 |\n",
        "| 10 | 110001 Alta Floresta D'Oeste   |   2010 |   0.5893 |\n",
        "| 11 | 110037 Alto Alegre dos Parecis |   2010 |   0.5491 |\n",
        "| 12 | 110040 Alto Paraíso            |   2010 |   0.5417 |\n",
        "| 13 | 110034 Alvorada D'Oeste        |   2010 |   0.5355 |\n",
        "| 14 | 110002 Ariquemes               |   2010 |   0.5496 |"
      ]
    },
    {
      "cell_type": "code",
      "execution_count": null,
      "metadata": {
        "nbgrader": {
          "grade": false,
          "grade_id": "cell-ad0e87d66c42fd83",
          "locked": false,
          "schema_version": 3,
          "solution": true,
          "task": false
        },
        "id": "iBM8nir-_rq8"
      },
      "outputs": [],
      "source": [
        "def unpivot_gini(df):\n",
        "    \"\"\"retorne um dataframe despivotado.\n",
        "    \"\"\"\n",
        "    ### BEGIN SOLUTION\n",
        "\n",
        "    ### END SOLUTION\n",
        ""
      ]
    },
    {
      "cell_type": "code",
      "execution_count": null,
      "metadata": {
        "id": "dAtrcCIf_rq9"
      },
      "outputs": [],
      "source": [
        "# Faça seus testes aqui\n",
        "dataset_gini = {'Município': {0: \"110001 Alta Floresta D'Oeste\",\n",
        "  1: '110037 Alto Alegre dos Parecis',\n",
        "  2: '110040 Alto Paraíso',\n",
        "  3: \"110034 Alvorada D'Oeste\",\n",
        "  4: '110002 Ariquemes'},\n",
        " '1991': {0: 0.5983, 1: None, 2: None, 3: 0.569, 4: 0.5827},\n",
        " '2000': {0: 0.5868, 1: 0.508, 2: 0.6256, 3: 0.6534, 4: 0.5927},\n",
        " '2010': {0: 0.5893, 1: 0.5491, 2: 0.5417, 3: 0.5355, 4: 0.5496}}\n",
        "df_gini = pd.DataFrame(dataset_gini)\n",
        "df_gini"
      ]
    },
    {
      "cell_type": "code",
      "execution_count": null,
      "metadata": {
        "id": "XrdTmiU5_rq-"
      },
      "outputs": [],
      "source": [
        "# Validação\n",
        "dataset_gini = {'Município': {0: \"110001 Alta Floresta D'Oeste\",\n",
        "  1: '110037 Alto Alegre dos Parecis',\n",
        "  2: '110040 Alto Paraíso',\n",
        "  3: \"110034 Alvorada D'Oeste\",\n",
        "  4: '110002 Ariquemes'},\n",
        " '1991': {0: 0.5983, 1: None, 2: None, 3: 0.569, 4: 0.5827},\n",
        " '2000': {0: 0.5868, 1: 0.508, 2: 0.6256, 3: 0.6534, 4: 0.5927},\n",
        " '2010': {0: 0.5893, 1: 0.5491, 2: 0.5417, 3: 0.5355, 4: 0.5496}}\n",
        "df_gini = pd.DataFrame(dataset_gini)\n",
        "\n",
        "test_data = {'Município': {0: \"110001 Alta Floresta D'Oeste\", 1: '110037 Alto Alegre dos Parecis',\n",
        "  2: '110040 Alto Paraíso',  3: \"110034 Alvorada D'Oeste\", 4: '110002 Ariquemes', 5: \"110001 Alta Floresta D'Oeste\",\n",
        "  6: '110037 Alto Alegre dos Parecis', 7: '110040 Alto Paraíso', 8: \"110034 Alvorada D'Oeste\", 9: '110002 Ariquemes',\n",
        "  10: \"110001 Alta Floresta D'Oeste\", 11: '110037 Alto Alegre dos Parecis', 12: '110040 Alto Paraíso',\n",
        "  13: \"110034 Alvorada D'Oeste\", 14: '110002 Ariquemes'}, 'data': {0: '1991', 1: '1991', 2: '1991', 3: '1991',\n",
        "  4: '1991', 5: '2000', 6: '2000', 7: '2000', 8: '2000', 9: '2000', 10: '2010', 11: '2010', 12: '2010', 13: '2010',\n",
        "  14: '2010'},'gini': {0: 0.5983, 1: nan, 2: nan, 3: 0.569, 4: 0.5827, 5: 0.5868, 6: 0.508, 7: 0.6256, 8: 0.6534,\n",
        "  9: 0.5927, 10: 0.5893, 11: 0.5491, 12: 0.5417, 13: 0.5355, 14: 0.5496}}\n",
        "\n",
        "entradas = [[df_gini]]\n",
        "saidas = [pd.DataFrame(test_data)]\n"
      ]
    }
  ],
  "metadata": {
    "celltoolbar": "Create Assignment",
    "kernelspec": {
      "display_name": "Python 3",
      "language": "python",
      "name": "python3"
    },
    "language_info": {
      "codemirror_mode": {
        "name": "ipython",
        "version": 3
      },
      "file_extension": ".py",
      "mimetype": "text/x-python",
      "name": "python",
      "nbconvert_exporter": "python",
      "pygments_lexer": "ipython3",
      "version": "3.8.3"
    },
    "name": "_merged",
    "varInspector": {
      "cols": {
        "lenName": 16,
        "lenType": 16,
        "lenVar": 40
      },
      "kernels_config": {
        "python": {
          "delete_cmd_postfix": "",
          "delete_cmd_prefix": "del ",
          "library": "var_list.py",
          "varRefreshCmd": "print(var_dic_list())"
        },
        "r": {
          "delete_cmd_postfix": ") ",
          "delete_cmd_prefix": "rm(",
          "library": "var_list.r",
          "varRefreshCmd": "cat(var_dic_list()) "
        }
      },
      "types_to_exclude": [
        "module",
        "function",
        "builtin_function_or_method",
        "instance",
        "_Feature"
      ],
      "window_display": false
    },
    "colab": {
      "provenance": [],
      "include_colab_link": true
    }
  },
  "nbformat": 4,
  "nbformat_minor": 0
}